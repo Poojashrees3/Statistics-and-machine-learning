{
  "nbformat": 4,
  "nbformat_minor": 0,
  "metadata": {
    "colab": {
      "provenance": [],
      "authorship_tag": "ABX9TyPQ7iw34j5HkpZ0UWJRPEqF",
      "include_colab_link": true
    },
    "kernelspec": {
      "name": "python3",
      "display_name": "Python 3"
    },
    "language_info": {
      "name": "python"
    }
  },
  "cells": [
    {
      "cell_type": "markdown",
      "metadata": {
        "id": "view-in-github",
        "colab_type": "text"
      },
      "source": [
        "<a href=\"https://colab.research.google.com/github/Poojashrees3/Statistics-and-machine-learning/blob/main/exercise_4.ipynb\" target=\"_parent\"><img src=\"https://colab.research.google.com/assets/colab-badge.svg\" alt=\"Open In Colab\"/></a>"
      ]
    },
    {
      "cell_type": "code",
      "execution_count": null,
      "metadata": {
        "colab": {
          "base_uri": "https://localhost:8080/",
          "height": 206
        },
        "id": "7B_LI5kSgE2Y",
        "outputId": "312e024f-0d6b-43dc-d68e-724f9f134dfe"
      },
      "outputs": [
        {
          "output_type": "execute_result",
          "data": {
            "text/plain": [
              "   sepal_length  sepal_width  petal_length  petal_width species\n",
              "0           5.1          3.5           1.4          0.2  setosa\n",
              "1           4.9          3.0           1.4          0.2  setosa\n",
              "2           4.7          3.2           1.3          0.2  setosa\n",
              "3           4.6          3.1           1.5          0.2  setosa\n",
              "4           5.0          3.6           1.4          0.2  setosa"
            ],
            "text/html": [
              "\n",
              "  <div id=\"df-2ca777b9-0a77-46ec-891a-ec67b686388c\" class=\"colab-df-container\">\n",
              "    <div>\n",
              "<style scoped>\n",
              "    .dataframe tbody tr th:only-of-type {\n",
              "        vertical-align: middle;\n",
              "    }\n",
              "\n",
              "    .dataframe tbody tr th {\n",
              "        vertical-align: top;\n",
              "    }\n",
              "\n",
              "    .dataframe thead th {\n",
              "        text-align: right;\n",
              "    }\n",
              "</style>\n",
              "<table border=\"1\" class=\"dataframe\">\n",
              "  <thead>\n",
              "    <tr style=\"text-align: right;\">\n",
              "      <th></th>\n",
              "      <th>sepal_length</th>\n",
              "      <th>sepal_width</th>\n",
              "      <th>petal_length</th>\n",
              "      <th>petal_width</th>\n",
              "      <th>species</th>\n",
              "    </tr>\n",
              "  </thead>\n",
              "  <tbody>\n",
              "    <tr>\n",
              "      <th>0</th>\n",
              "      <td>5.1</td>\n",
              "      <td>3.5</td>\n",
              "      <td>1.4</td>\n",
              "      <td>0.2</td>\n",
              "      <td>setosa</td>\n",
              "    </tr>\n",
              "    <tr>\n",
              "      <th>1</th>\n",
              "      <td>4.9</td>\n",
              "      <td>3.0</td>\n",
              "      <td>1.4</td>\n",
              "      <td>0.2</td>\n",
              "      <td>setosa</td>\n",
              "    </tr>\n",
              "    <tr>\n",
              "      <th>2</th>\n",
              "      <td>4.7</td>\n",
              "      <td>3.2</td>\n",
              "      <td>1.3</td>\n",
              "      <td>0.2</td>\n",
              "      <td>setosa</td>\n",
              "    </tr>\n",
              "    <tr>\n",
              "      <th>3</th>\n",
              "      <td>4.6</td>\n",
              "      <td>3.1</td>\n",
              "      <td>1.5</td>\n",
              "      <td>0.2</td>\n",
              "      <td>setosa</td>\n",
              "    </tr>\n",
              "    <tr>\n",
              "      <th>4</th>\n",
              "      <td>5.0</td>\n",
              "      <td>3.6</td>\n",
              "      <td>1.4</td>\n",
              "      <td>0.2</td>\n",
              "      <td>setosa</td>\n",
              "    </tr>\n",
              "  </tbody>\n",
              "</table>\n",
              "</div>\n",
              "    <div class=\"colab-df-buttons\">\n",
              "\n",
              "  <div class=\"colab-df-container\">\n",
              "    <button class=\"colab-df-convert\" onclick=\"convertToInteractive('df-2ca777b9-0a77-46ec-891a-ec67b686388c')\"\n",
              "            title=\"Convert this dataframe to an interactive table.\"\n",
              "            style=\"display:none;\">\n",
              "\n",
              "  <svg xmlns=\"http://www.w3.org/2000/svg\" height=\"24px\" viewBox=\"0 -960 960 960\">\n",
              "    <path d=\"M120-120v-720h720v720H120Zm60-500h600v-160H180v160Zm220 220h160v-160H400v160Zm0 220h160v-160H400v160ZM180-400h160v-160H180v160Zm440 0h160v-160H620v160ZM180-180h160v-160H180v160Zm440 0h160v-160H620v160Z\"/>\n",
              "  </svg>\n",
              "    </button>\n",
              "\n",
              "  <style>\n",
              "    .colab-df-container {\n",
              "      display:flex;\n",
              "      gap: 12px;\n",
              "    }\n",
              "\n",
              "    .colab-df-convert {\n",
              "      background-color: #E8F0FE;\n",
              "      border: none;\n",
              "      border-radius: 50%;\n",
              "      cursor: pointer;\n",
              "      display: none;\n",
              "      fill: #1967D2;\n",
              "      height: 32px;\n",
              "      padding: 0 0 0 0;\n",
              "      width: 32px;\n",
              "    }\n",
              "\n",
              "    .colab-df-convert:hover {\n",
              "      background-color: #E2EBFA;\n",
              "      box-shadow: 0px 1px 2px rgba(60, 64, 67, 0.3), 0px 1px 3px 1px rgba(60, 64, 67, 0.15);\n",
              "      fill: #174EA6;\n",
              "    }\n",
              "\n",
              "    .colab-df-buttons div {\n",
              "      margin-bottom: 4px;\n",
              "    }\n",
              "\n",
              "    [theme=dark] .colab-df-convert {\n",
              "      background-color: #3B4455;\n",
              "      fill: #D2E3FC;\n",
              "    }\n",
              "\n",
              "    [theme=dark] .colab-df-convert:hover {\n",
              "      background-color: #434B5C;\n",
              "      box-shadow: 0px 1px 3px 1px rgba(0, 0, 0, 0.15);\n",
              "      filter: drop-shadow(0px 1px 2px rgba(0, 0, 0, 0.3));\n",
              "      fill: #FFFFFF;\n",
              "    }\n",
              "  </style>\n",
              "\n",
              "    <script>\n",
              "      const buttonEl =\n",
              "        document.querySelector('#df-2ca777b9-0a77-46ec-891a-ec67b686388c button.colab-df-convert');\n",
              "      buttonEl.style.display =\n",
              "        google.colab.kernel.accessAllowed ? 'block' : 'none';\n",
              "\n",
              "      async function convertToInteractive(key) {\n",
              "        const element = document.querySelector('#df-2ca777b9-0a77-46ec-891a-ec67b686388c');\n",
              "        const dataTable =\n",
              "          await google.colab.kernel.invokeFunction('convertToInteractive',\n",
              "                                                    [key], {});\n",
              "        if (!dataTable) return;\n",
              "\n",
              "        const docLinkHtml = 'Like what you see? Visit the ' +\n",
              "          '<a target=\"_blank\" href=https://colab.research.google.com/notebooks/data_table.ipynb>data table notebook</a>'\n",
              "          + ' to learn more about interactive tables.';\n",
              "        element.innerHTML = '';\n",
              "        dataTable['output_type'] = 'display_data';\n",
              "        await google.colab.output.renderOutput(dataTable, element);\n",
              "        const docLink = document.createElement('div');\n",
              "        docLink.innerHTML = docLinkHtml;\n",
              "        element.appendChild(docLink);\n",
              "      }\n",
              "    </script>\n",
              "  </div>\n",
              "\n",
              "\n",
              "<div id=\"df-a4e1c5ea-69a8-4376-a877-b4eecedb2b70\">\n",
              "  <button class=\"colab-df-quickchart\" onclick=\"quickchart('df-a4e1c5ea-69a8-4376-a877-b4eecedb2b70')\"\n",
              "            title=\"Suggest charts\"\n",
              "            style=\"display:none;\">\n",
              "\n",
              "<svg xmlns=\"http://www.w3.org/2000/svg\" height=\"24px\"viewBox=\"0 0 24 24\"\n",
              "     width=\"24px\">\n",
              "    <g>\n",
              "        <path d=\"M19 3H5c-1.1 0-2 .9-2 2v14c0 1.1.9 2 2 2h14c1.1 0 2-.9 2-2V5c0-1.1-.9-2-2-2zM9 17H7v-7h2v7zm4 0h-2V7h2v10zm4 0h-2v-4h2v4z\"/>\n",
              "    </g>\n",
              "</svg>\n",
              "  </button>\n",
              "\n",
              "<style>\n",
              "  .colab-df-quickchart {\n",
              "      --bg-color: #E8F0FE;\n",
              "      --fill-color: #1967D2;\n",
              "      --hover-bg-color: #E2EBFA;\n",
              "      --hover-fill-color: #174EA6;\n",
              "      --disabled-fill-color: #AAA;\n",
              "      --disabled-bg-color: #DDD;\n",
              "  }\n",
              "\n",
              "  [theme=dark] .colab-df-quickchart {\n",
              "      --bg-color: #3B4455;\n",
              "      --fill-color: #D2E3FC;\n",
              "      --hover-bg-color: #434B5C;\n",
              "      --hover-fill-color: #FFFFFF;\n",
              "      --disabled-bg-color: #3B4455;\n",
              "      --disabled-fill-color: #666;\n",
              "  }\n",
              "\n",
              "  .colab-df-quickchart {\n",
              "    background-color: var(--bg-color);\n",
              "    border: none;\n",
              "    border-radius: 50%;\n",
              "    cursor: pointer;\n",
              "    display: none;\n",
              "    fill: var(--fill-color);\n",
              "    height: 32px;\n",
              "    padding: 0;\n",
              "    width: 32px;\n",
              "  }\n",
              "\n",
              "  .colab-df-quickchart:hover {\n",
              "    background-color: var(--hover-bg-color);\n",
              "    box-shadow: 0 1px 2px rgba(60, 64, 67, 0.3), 0 1px 3px 1px rgba(60, 64, 67, 0.15);\n",
              "    fill: var(--button-hover-fill-color);\n",
              "  }\n",
              "\n",
              "  .colab-df-quickchart-complete:disabled,\n",
              "  .colab-df-quickchart-complete:disabled:hover {\n",
              "    background-color: var(--disabled-bg-color);\n",
              "    fill: var(--disabled-fill-color);\n",
              "    box-shadow: none;\n",
              "  }\n",
              "\n",
              "  .colab-df-spinner {\n",
              "    border: 2px solid var(--fill-color);\n",
              "    border-color: transparent;\n",
              "    border-bottom-color: var(--fill-color);\n",
              "    animation:\n",
              "      spin 1s steps(1) infinite;\n",
              "  }\n",
              "\n",
              "  @keyframes spin {\n",
              "    0% {\n",
              "      border-color: transparent;\n",
              "      border-bottom-color: var(--fill-color);\n",
              "      border-left-color: var(--fill-color);\n",
              "    }\n",
              "    20% {\n",
              "      border-color: transparent;\n",
              "      border-left-color: var(--fill-color);\n",
              "      border-top-color: var(--fill-color);\n",
              "    }\n",
              "    30% {\n",
              "      border-color: transparent;\n",
              "      border-left-color: var(--fill-color);\n",
              "      border-top-color: var(--fill-color);\n",
              "      border-right-color: var(--fill-color);\n",
              "    }\n",
              "    40% {\n",
              "      border-color: transparent;\n",
              "      border-right-color: var(--fill-color);\n",
              "      border-top-color: var(--fill-color);\n",
              "    }\n",
              "    60% {\n",
              "      border-color: transparent;\n",
              "      border-right-color: var(--fill-color);\n",
              "    }\n",
              "    80% {\n",
              "      border-color: transparent;\n",
              "      border-right-color: var(--fill-color);\n",
              "      border-bottom-color: var(--fill-color);\n",
              "    }\n",
              "    90% {\n",
              "      border-color: transparent;\n",
              "      border-bottom-color: var(--fill-color);\n",
              "    }\n",
              "  }\n",
              "</style>\n",
              "\n",
              "  <script>\n",
              "    async function quickchart(key) {\n",
              "      const quickchartButtonEl =\n",
              "        document.querySelector('#' + key + ' button');\n",
              "      quickchartButtonEl.disabled = true;  // To prevent multiple clicks.\n",
              "      quickchartButtonEl.classList.add('colab-df-spinner');\n",
              "      try {\n",
              "        const charts = await google.colab.kernel.invokeFunction(\n",
              "            'suggestCharts', [key], {});\n",
              "      } catch (error) {\n",
              "        console.error('Error during call to suggestCharts:', error);\n",
              "      }\n",
              "      quickchartButtonEl.classList.remove('colab-df-spinner');\n",
              "      quickchartButtonEl.classList.add('colab-df-quickchart-complete');\n",
              "    }\n",
              "    (() => {\n",
              "      let quickchartButtonEl =\n",
              "        document.querySelector('#df-a4e1c5ea-69a8-4376-a877-b4eecedb2b70 button');\n",
              "      quickchartButtonEl.style.display =\n",
              "        google.colab.kernel.accessAllowed ? 'block' : 'none';\n",
              "    })();\n",
              "  </script>\n",
              "</div>\n",
              "\n",
              "    </div>\n",
              "  </div>\n"
            ],
            "application/vnd.google.colaboratory.intrinsic+json": {
              "type": "dataframe",
              "variable_name": "iris",
              "summary": "{\n  \"name\": \"iris\",\n  \"rows\": 150,\n  \"fields\": [\n    {\n      \"column\": \"sepal_length\",\n      \"properties\": {\n        \"dtype\": \"number\",\n        \"std\": 0.8280661279778629,\n        \"min\": 4.3,\n        \"max\": 7.9,\n        \"num_unique_values\": 35,\n        \"samples\": [\n          6.2,\n          4.5,\n          5.6\n        ],\n        \"semantic_type\": \"\",\n        \"description\": \"\"\n      }\n    },\n    {\n      \"column\": \"sepal_width\",\n      \"properties\": {\n        \"dtype\": \"number\",\n        \"std\": 0.435866284936698,\n        \"min\": 2.0,\n        \"max\": 4.4,\n        \"num_unique_values\": 23,\n        \"samples\": [\n          2.3,\n          4.0,\n          3.5\n        ],\n        \"semantic_type\": \"\",\n        \"description\": \"\"\n      }\n    },\n    {\n      \"column\": \"petal_length\",\n      \"properties\": {\n        \"dtype\": \"number\",\n        \"std\": 1.7652982332594667,\n        \"min\": 1.0,\n        \"max\": 6.9,\n        \"num_unique_values\": 43,\n        \"samples\": [\n          6.7,\n          3.8,\n          3.7\n        ],\n        \"semantic_type\": \"\",\n        \"description\": \"\"\n      }\n    },\n    {\n      \"column\": \"petal_width\",\n      \"properties\": {\n        \"dtype\": \"number\",\n        \"std\": 0.7622376689603465,\n        \"min\": 0.1,\n        \"max\": 2.5,\n        \"num_unique_values\": 22,\n        \"samples\": [\n          0.2,\n          1.2,\n          1.3\n        ],\n        \"semantic_type\": \"\",\n        \"description\": \"\"\n      }\n    },\n    {\n      \"column\": \"species\",\n      \"properties\": {\n        \"dtype\": \"category\",\n        \"num_unique_values\": 3,\n        \"samples\": [\n          \"setosa\",\n          \"versicolor\",\n          \"virginica\"\n        ],\n        \"semantic_type\": \"\",\n        \"description\": \"\"\n      }\n    }\n  ]\n}"
            }
          },
          "metadata": {},
          "execution_count": 1
        }
      ],
      "source": [
        "import numpy as np\n",
        "import pandas as pd\n",
        "import matplotlib.pyplot as plt\n",
        "import seaborn as sns\n",
        "iris = sns.load_dataset(\"iris\")\n",
        "\n",
        "iris.head()"
      ]
    },
    {
      "cell_type": "markdown",
      "source": [
        "**Handling missing values**"
      ],
      "metadata": {
        "id": "YXN7uCd1ZdAk"
      }
    },
    {
      "cell_type": "code",
      "source": [
        "# Checking for missing values\n",
        "print(iris.isnull().sum())\n",
        "\n",
        "#there are no missing values found\n",
        "\n",
        "#if found we can use the below formula\n",
        "\n",
        "# Impute missing values using the mean for numerical columns\n",
        "#for col in ['sepal_length', 'sepal_width', 'petal_length', 'petal_width']:\n",
        " #   if iris[col].isnull().any():\n",
        "  #      iris[col] = iris[col].fillna(iris[col].mean())\n",
        "\n",
        "\n",
        "# Verifying that there are no more missing values\n",
        "#print(iris.isnull().sum())"
      ],
      "metadata": {
        "colab": {
          "base_uri": "https://localhost:8080/"
        },
        "id": "ZnXQG3DghK6h",
        "outputId": "94a75944-52d2-42f6-a66f-79541428e78f"
      },
      "execution_count": 3,
      "outputs": [
        {
          "output_type": "stream",
          "name": "stdout",
          "text": [
            "sepal_length    0\n",
            "sepal_width     0\n",
            "petal_length    0\n",
            "petal_width     0\n",
            "species         0\n",
            "dtype: int64\n"
          ]
        }
      ]
    },
    {
      "cell_type": "markdown",
      "source": [
        "**Scaling Data**"
      ],
      "metadata": {
        "id": "tsTZi27oZhj8"
      }
    },
    {
      "cell_type": "code",
      "source": [
        "from sklearn.preprocessing import StandardScaler, MinMaxScaler\n",
        "\n",
        "# Create instances of StandardScaler and MinMaxScaler\n",
        "scaler = StandardScaler()\n",
        "min_max_scaler = MinMaxScaler()\n",
        "\n",
        "# Select numerical features for scaling\n",
        "numerical_features = ['sepal_length', 'sepal_width', 'petal_length', 'petal_width']\n",
        "\n",
        "# Z-score scaling\n",
        "iris_scaled = iris.copy()  # Create a copy to avoid modifying the original DataFrame\n",
        "iris_scaled[numerical_features] = scaler.fit_transform(iris[numerical_features])\n",
        "\n",
        "# Min-Max scaling\n",
        "iris_normalized = iris.copy()  # Create a copy to avoid modifying the original DataFrame\n",
        "iris_normalized[numerical_features] = min_max_scaler.fit_transform(iris[numerical_features])\n",
        "\n",
        "# Now, iris_scaled contains the standardized data, and iris_normalized has the normalized data\n",
        "print(\"\\n iris scaled data : \\n \",iris_scaled.head())\n",
        "print(\"\\n iris normalized data: \\n \",iris_normalized.head())"
      ],
      "metadata": {
        "colab": {
          "base_uri": "https://localhost:8080/"
        },
        "id": "-kiIrJb5hAcY",
        "outputId": "87254254-ed05-4d02-c04f-90002478bad8"
      },
      "execution_count": null,
      "outputs": [
        {
          "output_type": "stream",
          "name": "stdout",
          "text": [
            "\n",
            " iris scaled data : \n",
            "     sepal_length  sepal_width  petal_length  petal_width species\n",
            "0     -0.900681     1.019004     -1.340227    -1.315444  setosa\n",
            "1     -1.143017    -0.131979     -1.340227    -1.315444  setosa\n",
            "2     -1.385353     0.328414     -1.397064    -1.315444  setosa\n",
            "3     -1.506521     0.098217     -1.283389    -1.315444  setosa\n",
            "4     -1.021849     1.249201     -1.340227    -1.315444  setosa\n",
            "\n",
            " iris normalized data: \n",
            "     sepal_length  sepal_width  petal_length  petal_width species\n",
            "0      0.222222     0.625000      0.067797     0.041667  setosa\n",
            "1      0.166667     0.416667      0.067797     0.041667  setosa\n",
            "2      0.111111     0.500000      0.050847     0.041667  setosa\n",
            "3      0.083333     0.458333      0.084746     0.041667  setosa\n",
            "4      0.194444     0.666667      0.067797     0.041667  setosa\n"
          ]
        }
      ]
    },
    {
      "cell_type": "markdown",
      "source": [
        "**Generating Noise**"
      ],
      "metadata": {
        "id": "JAhTXOTJZmDO"
      }
    },
    {
      "cell_type": "code",
      "source": [
        "# Injecting random noise into 'sepal_length'\n",
        "np.random.seed(42)\n",
        "noise = np.random.normal(0, 0.5, len(iris))  # Mean 0, std dev 0.5\n",
        "iris['noisy_sepal_length'] = iris['sepal_length'] + noise\n",
        "\n",
        "# Smoothing with Exponential Moving Average\n",
        "alpha = 0.2\n",
        "iris['ema_sepal_length'] = iris['noisy_sepal_length'].ewm(alpha=alpha, adjust=False).mean()\n",
        "\n",
        "# Remove Noise using rolling mean (example)\n",
        "iris['rolling_mean_sepal_length'] = iris['noisy_sepal_length'].rolling(3,center=True).mean()\n",
        "\n",
        "\n",
        "print(iris[['sepal_length', 'noisy_sepal_length', 'ema_sepal_length','rolling_mean_sepal_length']].head(10))"
      ],
      "metadata": {
        "colab": {
          "base_uri": "https://localhost:8080/"
        },
        "id": "y0w8MN_fjE_C",
        "outputId": "da7cd79d-1e8c-4559-fec3-bc0d54a05198"
      },
      "execution_count": null,
      "outputs": [
        {
          "output_type": "stream",
          "name": "stdout",
          "text": [
            "   sepal_length  noisy_sepal_length  ema_sepal_length  \\\n",
            "0           5.1            5.348357          5.348357   \n",
            "1           4.9            4.830868          5.244859   \n",
            "2           4.7            5.023844          5.200656   \n",
            "3           4.6            5.361515          5.232828   \n",
            "4           5.0            4.882923          5.162847   \n",
            "5           5.4            5.282932          5.186864   \n",
            "6           4.6            5.389606          5.227412   \n",
            "7           5.0            5.383717          5.258673   \n",
            "8           4.4            4.165263          5.039991   \n",
            "9           4.9            5.171280          5.066249   \n",
            "\n",
            "   rolling_mean_sepal_length  \n",
            "0                        NaN  \n",
            "1                   5.067690  \n",
            "2                   5.072076  \n",
            "3                   5.089428  \n",
            "4                   5.175790  \n",
            "5                   5.185154  \n",
            "6                   5.352085  \n",
            "7                   4.979529  \n",
            "8                   4.906753  \n",
            "9                   4.834945  \n"
          ]
        }
      ]
    },
    {
      "cell_type": "markdown",
      "source": [
        "**Handling Outliers**"
      ],
      "metadata": {
        "id": "No3RGRZPZ3iI"
      }
    },
    {
      "cell_type": "code",
      "source": [
        "def handle_outliers_zscore(df, column, threshold=5):\n",
        "    z_scores = np.abs((df[column] - df[column].mean()) / df[column].std())\n",
        "    df_outliers_removed = df[(z_scores < threshold)]\n",
        "    return df_outliers_removed\n",
        "\n",
        "# Example usage for 'noisy_sepal_length'\n",
        "iris_no_outliers = handle_outliers_zscore(iris, 'noisy_sepal_length')\n",
        "\n",
        "# Now, iris_no_outliers contains the DataFrame with outliers removed based on Z-score\n",
        "print(\"\\nDataFrame with outliers removed based on Z-score:\")\n",
        "print(iris_no_outliers.head())"
      ],
      "metadata": {
        "colab": {
          "base_uri": "https://localhost:8080/"
        },
        "id": "4PTr68jYkvMr",
        "outputId": "5fabb76c-732e-4560-c0bf-8440a2981b82"
      },
      "execution_count": null,
      "outputs": [
        {
          "output_type": "stream",
          "name": "stdout",
          "text": [
            "\n",
            "DataFrame with outliers removed based on Z-score:\n",
            "   sepal_length  sepal_width  petal_length  petal_width species  \\\n",
            "0           5.1          3.5           1.4          0.2  setosa   \n",
            "1           4.9          3.0           1.4          0.2  setosa   \n",
            "2           4.7          3.2           1.3          0.2  setosa   \n",
            "3           4.6          3.1           1.5          0.2  setosa   \n",
            "4           5.0          3.6           1.4          0.2  setosa   \n",
            "\n",
            "   noisy_sepal_length  ema_sepal_length  rolling_mean_sepal_length  \n",
            "0            5.348357          5.348357                        NaN  \n",
            "1            4.830868          5.244859                   5.067690  \n",
            "2            5.023844          5.200656                   5.072076  \n",
            "3            5.361515          5.232828                   5.089428  \n",
            "4            4.882923          5.162847                   5.175790  \n"
          ]
        }
      ]
    },
    {
      "cell_type": "markdown",
      "source": [
        "**Filter Method-Correlation(heat map)**"
      ],
      "metadata": {
        "id": "Pq5WQ_FDZ7yP"
      }
    },
    {
      "cell_type": "code",
      "source": [
        "import matplotlib.pyplot as plt\n",
        "import seaborn as sns\n",
        "import pandas as pd\n",
        "\n",
        "# Calculate the correlation matrix for numeric features only\n",
        "\n",
        "numeric_features = iris.select_dtypes(include=['number']).columns # Select numeric columns\n",
        "\n",
        "correlation_matrix = iris[numeric_features].corr() # Calculate correlation for numeric features\n",
        "\n",
        "\n",
        "# Plot the correlation matrix as a heatmap\n",
        "plt.figure(figsize=(8, 6))\n",
        "sns.heatmap(correlation_matrix, annot=True, cmap='coolwarm', fmt=\".2f\")\n",
        "plt.title('Correlation Matrix of Iris Dataset')\n",
        "plt.show()"
      ],
      "metadata": {
        "colab": {
          "base_uri": "https://localhost:8080/",
          "height": 545
        },
        "id": "u8u4ssN3lrjM",
        "outputId": "9860018e-0a7f-4acd-f53d-fa84f58536f4"
      },
      "execution_count": null,
      "outputs": [
        {
          "output_type": "display_data",
          "data": {
            "text/plain": [
              "<Figure size 800x600 with 2 Axes>"
            ],
            "image/png": "[encoded data removed]"
          },
          "metadata": {}
        }
      ]
    },
    {
      "cell_type": "markdown",
      "source": [
        "The above map reflects -\n",
        "\n",
        "1.Petal length and petal width show a very strong positive correlation (0.96). This suggests that as petal length increases, petal width tends to increase as well.\n",
        "\n",
        "2.Sepal length and sepal width exhibit a weak correlation (0.11).\n",
        "\n",
        "3.The heatmap reveals the relationships between the different iris measurements.  Petal dimensions are highly correlated, sepal dimensions less so, and there are moderate correlations between petal and sepal dimensions. The noisy sepal length doesn't significantly alter the overall correlation pattern due to its moderate level of noise.  The smoothing techniques applied to the noisy data help to preserve the general relationships with the original measurements."
      ],
      "metadata": {
        "id": "lG6_S0NqqpjC"
      }
    },
    {
      "cell_type": "markdown",
      "source": [
        "**Wrapper Methods - RFE**"
      ],
      "metadata": {
        "id": "DTUvNcwgaEaz"
      }
    },
    {
      "cell_type": "code",
      "source": [
        "import pandas as pd\n",
        "from sklearn.feature_selection import RFE\n",
        "from sklearn.linear_model import LogisticRegression\n",
        "import matplotlib.pyplot as plt\n",
        "\n",
        "# Prepare the data\n",
        "X = iris.drop(\"species\", axis=1)  # Features\n",
        "y = iris[\"species\"]  # Target variable\n",
        "\n",
        "# Create and train the RFE model\n",
        "model = LogisticRegression(solver='liblinear', multi_class='auto')\n",
        "rfe = RFE(estimator=model, n_features_to_select=2)  # Select the top 2 features\n",
        "rfe = rfe.fit(X, y)\n",
        "\n",
        "# Get the feature ranking\n",
        "ranking = rfe.ranking_\n",
        "print(\"Feature ranking:\\n\", ranking)\n",
        "\n",
        "# Get the selected features\n",
        "selected_features = X.columns[rfe.support_]\n",
        "print(\"Selected features:\", selected_features)\n",
        "\n",
        "# Plotting\n",
        "# Assuming your features are sepal_length, sepal_width, petal_length, petal_width\n",
        "feature_names = ['sepal_length', 'sepal_width', 'petal_length', 'petal_width']\n",
        "plt.barh(feature_names, ranking)\n",
        "plt.xlabel(\"Feature Rank\")\n",
        "plt.ylabel(\"Feature Name\")\n",
        "plt.title(\"RFE Feature Ranking for Iris Dataset\")\n",
        "plt.show()"
      ],
      "metadata": {
        "colab": {
          "base_uri": "https://localhost:8080/",
          "height": 648
        },
        "id": "p5dMYVIXoD4v",
        "outputId": "aebe85f1-0a56-4289-e4b4-a39485b78864"
      },
      "execution_count": null,
      "outputs": [
        {
          "output_type": "stream",
          "name": "stderr",
          "text": [
            "/usr/local/lib/python3.10/dist-packages/sklearn/linear_model/_logistic.py:1247: FutureWarning: 'multi_class' was deprecated in version 1.5 and will be removed in 1.7. From then on, it will always use 'multinomial'. Leave it to its default value to avoid this warning.\n",
            "  warnings.warn(\n",
            "/usr/local/lib/python3.10/dist-packages/sklearn/linear_model/_logistic.py:1247: FutureWarning: 'multi_class' was deprecated in version 1.5 and will be removed in 1.7. From then on, it will always use 'multinomial'. Leave it to its default value to avoid this warning.\n",
            "  warnings.warn(\n",
            "/usr/local/lib/python3.10/dist-packages/sklearn/linear_model/_logistic.py:1247: FutureWarning: 'multi_class' was deprecated in version 1.5 and will be removed in 1.7. From then on, it will always use 'multinomial'. Leave it to its default value to avoid this warning.\n",
            "  warnings.warn(\n"
          ]
        },
        {
          "output_type": "stream",
          "name": "stdout",
          "text": [
            "Feature ranking:\n",
            " [3 1 2 1]\n",
            "Selected features: Index(['sepal_width', 'petal_width'], dtype='object')\n"
          ]
        },
        {
          "output_type": "display_data",
          "data": {
            "text/plain": [
              "<Figure size 640x480 with 1 Axes>"
            ],
            "image/png": "[encoded data removed]"
          },
          "metadata": {}
        }
      ]
    },
    {
      "cell_type": "markdown",
      "source": [
        "**Embedded Methods - Lasso Regression**"
      ],
      "metadata": {
        "id": "rO_1Vwm8aKcU"
      }
    },
    {
      "cell_type": "code",
      "source": [
        "from sklearn.linear_model import Lasso\n",
        "from sklearn.model_selection import train_test_split\n",
        "\n",
        "# Prepare the data\n",
        "X = iris[['sepal_length', 'sepal_width', 'petal_length']]\n",
        "y = iris['petal_width']\n",
        "\n",
        "# Split data into training and testing sets\n",
        "X_train, X_test, y_train, y_test = train_test_split(X, y, test_size=0.2, random_state=42)\n",
        "\n",
        "# Create and train the Lasso regression model\n",
        "lasso = Lasso(alpha=0.1)\n",
        "lasso.fit(X_train, y_train)\n",
        "\n",
        "# Making predictions\n",
        "y_pred = lasso.predict(X_test)\n",
        "\n",
        "\n",
        "# Plot actual vs. predicted values\n",
        "plt.figure(figsize=(8, 6))\n",
        "plt.scatter(y_test, y_pred)\n",
        "plt.xlabel(\"Actual Petal Width\")\n",
        "plt.ylabel(\"Predicted Petal Width\")\n",
        "plt.title(\"Lasso Regression: Actual vs. Predicted Petal Width\")\n",
        "plt.plot([min(y_test), max(y_test)], [min(y_test), max(y_test)], color='red') # Add a diagonal line for reference\n",
        "plt.show()\n"
      ],
      "metadata": {
        "colab": {
          "base_uri": "https://localhost:8080/",
          "height": 564
        },
        "id": "62REuKabog5H",
        "outputId": "5346f496-7a9b-4494-940d-ca93dc16c1d6"
      },
      "execution_count": null,
      "outputs": [
        {
          "output_type": "display_data",
          "data": {
            "text/plain": [
              "<Figure size 800x600 with 1 Axes>"
            ],
            "image/png": "[encoded data removed]"
          },
          "metadata": {}
        }
      ]
    }
  ]
}