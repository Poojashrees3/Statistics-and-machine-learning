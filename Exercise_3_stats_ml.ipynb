{
  "nbformat": 4,
  "nbformat_minor": 0,
  "metadata": {
    "colab": {
      "provenance": [],
      "authorship_tag": "ABX9TyMoY7ECtU3Kb3pCtoM3vg0s",
      "include_colab_link": true
    },
    "kernelspec": {
      "name": "python3",
      "display_name": "Python 3"
    },
    "language_info": {
      "name": "python"
    }
  },
  "cells": [
    {
      "cell_type": "markdown",
      "metadata": {
        "id": "view-in-github",
        "colab_type": "text"
      },
      "source": [
        "<a href=\"https://colab.research.google.com/github/Poojashrees3/Statistics-and-machine-learning/blob/main/Exercise_3_stats_ml.ipynb\" target=\"_parent\"><img src=\"https://colab.research.google.com/assets/colab-badge.svg\" alt=\"Open In Colab\"/></a>"
      ]
    },
    {
      "cell_type": "markdown",
      "source": [
        "**Understanding**\n",
        "\n",
        "**1.T-Test**\n",
        "\n",
        "**2.Z-Test**\n",
        "\n",
        "**3.Anova**\n",
        "\n",
        " **4.Correlation/Regression**"
      ],
      "metadata": {
        "id": "VX04PUAwdMBv"
      }
    },
    {
      "cell_type": "code",
      "execution_count": 2,
      "metadata": {
        "colab": {
          "base_uri": "https://localhost:8080/",
          "height": 206
        },
        "id": "axd8kvgi3RmG",
        "outputId": "83d05f2f-8d89-46e2-bc55-6225f0e4f369"
      },
      "outputs": [
        {
          "output_type": "execute_result",
          "data": {
            "text/plain": [
              "   sepal_length  sepal_width  petal_length  petal_width species\n",
              "0           5.1          3.5           1.4          0.2  setosa\n",
              "1           4.9          3.0           1.4          0.2  setosa\n",
              "2           4.7          3.2           1.3          0.2  setosa\n",
              "3           4.6          3.1           1.5          0.2  setosa\n",
              "4           5.0          3.6           1.4          0.2  setosa"
            ],
            "text/html": [
              "\n",
              "  <div id=\"df-a6d8537a-7b03-4e9e-b0c0-3229ab4df096\" class=\"colab-df-container\">\n",
              "    <div>\n",
              "<style scoped>\n",
              "    .dataframe tbody tr th:only-of-type {\n",
              "        vertical-align: middle;\n",
              "    }\n",
              "\n",
              "    .dataframe tbody tr th {\n",
              "        vertical-align: top;\n",
              "    }\n",
              "\n",
              "    .dataframe thead th {\n",
              "        text-align: right;\n",
              "    }\n",
              "</style>\n",
              "<table border=\"1\" class=\"dataframe\">\n",
              "  <thead>\n",
              "    <tr style=\"text-align: right;\">\n",
              "      <th></th>\n",
              "      <th>sepal_length</th>\n",
              "      <th>sepal_width</th>\n",
              "      <th>petal_length</th>\n",
              "      <th>petal_width</th>\n",
              "      <th>species</th>\n",
              "    </tr>\n",
              "  </thead>\n",
              "  <tbody>\n",
              "    <tr>\n",
              "      <th>0</th>\n",
              "      <td>5.1</td>\n",
              "      <td>3.5</td>\n",
              "      <td>1.4</td>\n",
              "      <td>0.2</td>\n",
              "      <td>setosa</td>\n",
              "    </tr>\n",
              "    <tr>\n",
              "      <th>1</th>\n",
              "      <td>4.9</td>\n",
              "      <td>3.0</td>\n",
              "      <td>1.4</td>\n",
              "      <td>0.2</td>\n",
              "      <td>setosa</td>\n",
              "    </tr>\n",
              "    <tr>\n",
              "      <th>2</th>\n",
              "      <td>4.7</td>\n",
              "      <td>3.2</td>\n",
              "      <td>1.3</td>\n",
              "      <td>0.2</td>\n",
              "      <td>setosa</td>\n",
              "    </tr>\n",
              "    <tr>\n",
              "      <th>3</th>\n",
              "      <td>4.6</td>\n",
              "      <td>3.1</td>\n",
              "      <td>1.5</td>\n",
              "      <td>0.2</td>\n",
              "      <td>setosa</td>\n",
              "    </tr>\n",
              "    <tr>\n",
              "      <th>4</th>\n",
              "      <td>5.0</td>\n",
              "      <td>3.6</td>\n",
              "      <td>1.4</td>\n",
              "      <td>0.2</td>\n",
              "      <td>setosa</td>\n",
              "    </tr>\n",
              "  </tbody>\n",
              "</table>\n",
              "</div>\n",
              "    <div class=\"colab-df-buttons\">\n",
              "\n",
              "  <div class=\"colab-df-container\">\n",
              "    <button class=\"colab-df-convert\" onclick=\"convertToInteractive('df-a6d8537a-7b03-4e9e-b0c0-3229ab4df096')\"\n",
              "            title=\"Convert this dataframe to an interactive table.\"\n",
              "            style=\"display:none;\">\n",
              "\n",
              "  <svg xmlns=\"http://www.w3.org/2000/svg\" height=\"24px\" viewBox=\"0 -960 960 960\">\n",
              "    <path d=\"M120-120v-720h720v720H120Zm60-500h600v-160H180v160Zm220 220h160v-160H400v160Zm0 220h160v-160H400v160ZM180-400h160v-160H180v160Zm440 0h160v-160H620v160ZM180-180h160v-160H180v160Zm440 0h160v-160H620v160Z\"/>\n",
              "  </svg>\n",
              "    </button>\n",
              "\n",
              "  <style>\n",
              "    .colab-df-container {\n",
              "      display:flex;\n",
              "      gap: 12px;\n",
              "    }\n",
              "\n",
              "    .colab-df-convert {\n",
              "      background-color: #E8F0FE;\n",
              "      border: none;\n",
              "      border-radius: 50%;\n",
              "      cursor: pointer;\n",
              "      display: none;\n",
              "      fill: #1967D2;\n",
              "      height: 32px;\n",
              "      padding: 0 0 0 0;\n",
              "      width: 32px;\n",
              "    }\n",
              "\n",
              "    .colab-df-convert:hover {\n",
              "      background-color: #E2EBFA;\n",
              "      box-shadow: 0px 1px 2px rgba(60, 64, 67, 0.3), 0px 1px 3px 1px rgba(60, 64, 67, 0.15);\n",
              "      fill: #174EA6;\n",
              "    }\n",
              "\n",
              "    .colab-df-buttons div {\n",
              "      margin-bottom: 4px;\n",
              "    }\n",
              "\n",
              "    [theme=dark] .colab-df-convert {\n",
              "      background-color: #3B4455;\n",
              "      fill: #D2E3FC;\n",
              "    }\n",
              "\n",
              "    [theme=dark] .colab-df-convert:hover {\n",
              "      background-color: #434B5C;\n",
              "      box-shadow: 0px 1px 3px 1px rgba(0, 0, 0, 0.15);\n",
              "      filter: drop-shadow(0px 1px 2px rgba(0, 0, 0, 0.3));\n",
              "      fill: #FFFFFF;\n",
              "    }\n",
              "  </style>\n",
              "\n",
              "    <script>\n",
              "      const buttonEl =\n",
              "        document.querySelector('#df-a6d8537a-7b03-4e9e-b0c0-3229ab4df096 button.colab-df-convert');\n",
              "      buttonEl.style.display =\n",
              "        google.colab.kernel.accessAllowed ? 'block' : 'none';\n",
              "\n",
              "      async function convertToInteractive(key) {\n",
              "        const element = document.querySelector('#df-a6d8537a-7b03-4e9e-b0c0-3229ab4df096');\n",
              "        const dataTable =\n",
              "          await google.colab.kernel.invokeFunction('convertToInteractive',\n",
              "                                                    [key], {});\n",
              "        if (!dataTable) return;\n",
              "\n",
              "        const docLinkHtml = 'Like what you see? Visit the ' +\n",
              "          '<a target=\"_blank\" href=https://colab.research.google.com/notebooks/data_table.ipynb>data table notebook</a>'\n",
              "          + ' to learn more about interactive tables.';\n",
              "        element.innerHTML = '';\n",
              "        dataTable['output_type'] = 'display_data';\n",
              "        await google.colab.output.renderOutput(dataTable, element);\n",
              "        const docLink = document.createElement('div');\n",
              "        docLink.innerHTML = docLinkHtml;\n",
              "        element.appendChild(docLink);\n",
              "      }\n",
              "    </script>\n",
              "  </div>\n",
              "\n",
              "\n",
              "<div id=\"df-36e4f6a6-5111-4c14-8cde-8b93bd7215a1\">\n",
              "  <button class=\"colab-df-quickchart\" onclick=\"quickchart('df-36e4f6a6-5111-4c14-8cde-8b93bd7215a1')\"\n",
              "            title=\"Suggest charts\"\n",
              "            style=\"display:none;\">\n",
              "\n",
              "<svg xmlns=\"http://www.w3.org/2000/svg\" height=\"24px\"viewBox=\"0 0 24 24\"\n",
              "     width=\"24px\">\n",
              "    <g>\n",
              "        <path d=\"M19 3H5c-1.1 0-2 .9-2 2v14c0 1.1.9 2 2 2h14c1.1 0 2-.9 2-2V5c0-1.1-.9-2-2-2zM9 17H7v-7h2v7zm4 0h-2V7h2v10zm4 0h-2v-4h2v4z\"/>\n",
              "    </g>\n",
              "</svg>\n",
              "  </button>\n",
              "\n",
              "<style>\n",
              "  .colab-df-quickchart {\n",
              "      --bg-color: #E8F0FE;\n",
              "      --fill-color: #1967D2;\n",
              "      --hover-bg-color: #E2EBFA;\n",
              "      --hover-fill-color: #174EA6;\n",
              "      --disabled-fill-color: #AAA;\n",
              "      --disabled-bg-color: #DDD;\n",
              "  }\n",
              "\n",
              "  [theme=dark] .colab-df-quickchart {\n",
              "      --bg-color: #3B4455;\n",
              "      --fill-color: #D2E3FC;\n",
              "      --hover-bg-color: #434B5C;\n",
              "      --hover-fill-color: #FFFFFF;\n",
              "      --disabled-bg-color: #3B4455;\n",
              "      --disabled-fill-color: #666;\n",
              "  }\n",
              "\n",
              "  .colab-df-quickchart {\n",
              "    background-color: var(--bg-color);\n",
              "    border: none;\n",
              "    border-radius: 50%;\n",
              "    cursor: pointer;\n",
              "    display: none;\n",
              "    fill: var(--fill-color);\n",
              "    height: 32px;\n",
              "    padding: 0;\n",
              "    width: 32px;\n",
              "  }\n",
              "\n",
              "  .colab-df-quickchart:hover {\n",
              "    background-color: var(--hover-bg-color);\n",
              "    box-shadow: 0 1px 2px rgba(60, 64, 67, 0.3), 0 1px 3px 1px rgba(60, 64, 67, 0.15);\n",
              "    fill: var(--button-hover-fill-color);\n",
              "  }\n",
              "\n",
              "  .colab-df-quickchart-complete:disabled,\n",
              "  .colab-df-quickchart-complete:disabled:hover {\n",
              "    background-color: var(--disabled-bg-color);\n",
              "    fill: var(--disabled-fill-color);\n",
              "    box-shadow: none;\n",
              "  }\n",
              "\n",
              "  .colab-df-spinner {\n",
              "    border: 2px solid var(--fill-color);\n",
              "    border-color: transparent;\n",
              "    border-bottom-color: var(--fill-color);\n",
              "    animation:\n",
              "      spin 1s steps(1) infinite;\n",
              "  }\n",
              "\n",
              "  @keyframes spin {\n",
              "    0% {\n",
              "      border-color: transparent;\n",
              "      border-bottom-color: var(--fill-color);\n",
              "      border-left-color: var(--fill-color);\n",
              "    }\n",
              "    20% {\n",
              "      border-color: transparent;\n",
              "      border-left-color: var(--fill-color);\n",
              "      border-top-color: var(--fill-color);\n",
              "    }\n",
              "    30% {\n",
              "      border-color: transparent;\n",
              "      border-left-color: var(--fill-color);\n",
              "      border-top-color: var(--fill-color);\n",
              "      border-right-color: var(--fill-color);\n",
              "    }\n",
              "    40% {\n",
              "      border-color: transparent;\n",
              "      border-right-color: var(--fill-color);\n",
              "      border-top-color: var(--fill-color);\n",
              "    }\n",
              "    60% {\n",
              "      border-color: transparent;\n",
              "      border-right-color: var(--fill-color);\n",
              "    }\n",
              "    80% {\n",
              "      border-color: transparent;\n",
              "      border-right-color: var(--fill-color);\n",
              "      border-bottom-color: var(--fill-color);\n",
              "    }\n",
              "    90% {\n",
              "      border-color: transparent;\n",
              "      border-bottom-color: var(--fill-color);\n",
              "    }\n",
              "  }\n",
              "</style>\n",
              "\n",
              "  <script>\n",
              "    async function quickchart(key) {\n",
              "      const quickchartButtonEl =\n",
              "        document.querySelector('#' + key + ' button');\n",
              "      quickchartButtonEl.disabled = true;  // To prevent multiple clicks.\n",
              "      quickchartButtonEl.classList.add('colab-df-spinner');\n",
              "      try {\n",
              "        const charts = await google.colab.kernel.invokeFunction(\n",
              "            'suggestCharts', [key], {});\n",
              "      } catch (error) {\n",
              "        console.error('Error during call to suggestCharts:', error);\n",
              "      }\n",
              "      quickchartButtonEl.classList.remove('colab-df-spinner');\n",
              "      quickchartButtonEl.classList.add('colab-df-quickchart-complete');\n",
              "    }\n",
              "    (() => {\n",
              "      let quickchartButtonEl =\n",
              "        document.querySelector('#df-36e4f6a6-5111-4c14-8cde-8b93bd7215a1 button');\n",
              "      quickchartButtonEl.style.display =\n",
              "        google.colab.kernel.accessAllowed ? 'block' : 'none';\n",
              "    })();\n",
              "  </script>\n",
              "</div>\n",
              "\n",
              "    </div>\n",
              "  </div>\n"
            ],
            "application/vnd.google.colaboratory.intrinsic+json": {
              "type": "dataframe",
              "variable_name": "iris",
              "summary": "{\n  \"name\": \"iris\",\n  \"rows\": 150,\n  \"fields\": [\n    {\n      \"column\": \"sepal_length\",\n      \"properties\": {\n        \"dtype\": \"number\",\n        \"std\": 0.8280661279778629,\n        \"min\": 4.3,\n        \"max\": 7.9,\n        \"num_unique_values\": 35,\n        \"samples\": [\n          6.2,\n          4.5,\n          5.6\n        ],\n        \"semantic_type\": \"\",\n        \"description\": \"\"\n      }\n    },\n    {\n      \"column\": \"sepal_width\",\n      \"properties\": {\n        \"dtype\": \"number\",\n        \"std\": 0.435866284936698,\n        \"min\": 2.0,\n        \"max\": 4.4,\n        \"num_unique_values\": 23,\n        \"samples\": [\n          2.3,\n          4.0,\n          3.5\n        ],\n        \"semantic_type\": \"\",\n        \"description\": \"\"\n      }\n    },\n    {\n      \"column\": \"petal_length\",\n      \"properties\": {\n        \"dtype\": \"number\",\n        \"std\": 1.7652982332594667,\n        \"min\": 1.0,\n        \"max\": 6.9,\n        \"num_unique_values\": 43,\n        \"samples\": [\n          6.7,\n          3.8,\n          3.7\n        ],\n        \"semantic_type\": \"\",\n        \"description\": \"\"\n      }\n    },\n    {\n      \"column\": \"petal_width\",\n      \"properties\": {\n        \"dtype\": \"number\",\n        \"std\": 0.7622376689603465,\n        \"min\": 0.1,\n        \"max\": 2.5,\n        \"num_unique_values\": 22,\n        \"samples\": [\n          0.2,\n          1.2,\n          1.3\n        ],\n        \"semantic_type\": \"\",\n        \"description\": \"\"\n      }\n    },\n    {\n      \"column\": \"species\",\n      \"properties\": {\n        \"dtype\": \"category\",\n        \"num_unique_values\": 3,\n        \"samples\": [\n          \"setosa\",\n          \"versicolor\",\n          \"virginica\"\n        ],\n        \"semantic_type\": \"\",\n        \"description\": \"\"\n      }\n    }\n  ]\n}"
            }
          },
          "metadata": {},
          "execution_count": 2
        }
      ],
      "source": [
        "import numpy as np\n",
        "import pandas as pd\n",
        "import matplotlib.pyplot as plt\n",
        "import seaborn as sns\n",
        "iris = sns.load_dataset(\"iris\")\n",
        "\n",
        "iris.head()"
      ]
    },
    {
      "cell_type": "code",
      "source": [
        "species_counts = iris['species'].value_counts()\n",
        "print(species_counts)"
      ],
      "metadata": {
        "colab": {
          "base_uri": "https://localhost:8080/"
        },
        "id": "n9YdUU4p9WXl",
        "outputId": "01ea7c03-ebcd-4995-96db-0a62f2391ad4"
      },
      "execution_count": 3,
      "outputs": [
        {
          "output_type": "stream",
          "name": "stdout",
          "text": [
            "species\n",
            "setosa        50\n",
            "versicolor    50\n",
            "virginica     50\n",
            "Name: count, dtype: int64\n"
          ]
        }
      ]
    },
    {
      "cell_type": "markdown",
      "source": [
        "**1. T-Test**"
      ],
      "metadata": {
        "id": "TncAptW7bfM2"
      }
    },
    {
      "cell_type": "code",
      "source": [
        "setosa_petal_length = iris[iris['species'] == 'setosa']['petal_length']\n",
        "versicolor_petal_length = iris[iris['species'] == 'versicolor']['petal_length']\n",
        "\n",
        "print(\"Setosa petal length:\", setosa_petal_length[:5])\n",
        "print(\"Versicolor petal length:\", versicolor_petal_length[:5])\n"
      ],
      "metadata": {
        "colab": {
          "base_uri": "https://localhost:8080/"
        },
        "id": "dB-wIXZYe7dI",
        "outputId": "b160fbc1-d897-4919-d2f1-32975e0433e4"
      },
      "execution_count": 4,
      "outputs": [
        {
          "output_type": "stream",
          "name": "stdout",
          "text": [
            "Setosa petal length: 0    1.4\n",
            "1    1.4\n",
            "2    1.3\n",
            "3    1.5\n",
            "4    1.4\n",
            "Name: petal_length, dtype: float64\n",
            "Versicolor petal length: 50    4.7\n",
            "51    4.5\n",
            "52    4.9\n",
            "53    4.0\n",
            "54    4.6\n",
            "Name: petal_length, dtype: float64\n"
          ]
        }
      ]
    },
    {
      "cell_type": "markdown",
      "source": [
        "**Independent T-test**"
      ],
      "metadata": {
        "id": "dqyISQsMbiW5"
      }
    },
    {
      "cell_type": "code",
      "source": [
        "from scipy.stats import ttest_ind\n",
        "\n",
        "# Independent two-sample t-test\n",
        "t_statistic_sv, p_value_sv = ttest_ind(setosa_petal_length, versicolor_petal_length)\n",
        "\n",
        "print(f\"\\nT-statistic (Setosa petal length vs Versicolor petal length): {t_statistic_sv}\")\n",
        "print(f\"P-value: {p_value_sv}\")\n",
        "\n",
        "alpha = 0.05\n",
        "\n",
        "if p_value_sv == alpha: #if value is equal to 0.05 it is null hypothesis(H0), else it is alternative hypothesis(H1)\n",
        "    print(\"Fail to reject the null hypothesis: No significant difference in average petal length  between Setosa and Versicolor.\")\n",
        "else:\n",
        "    print(\"Reject the null hypothesis: There is a significant difference in average petal length  between Setosa and Versicolor.\")\n",
        "\n",
        "plt.figure(figsize=(8, 5))\n",
        "plt.hist(iris['petal_length'], bins=10, alpha=0.7, color='blue', edgecolor='black')\n",
        "plt.axvline(np.mean(setosa_petal_length), color='red', linestyle='--', label='Setosa Petal length')\n",
        "plt.axvline(np.mean(versicolor_petal_length), color='green', linestyle='-', label='Versicolor Petal length')\n",
        "plt.title('Setosa Petal length vs Versicolor Petal length')\n",
        "plt.xlabel('Value')\n",
        "plt.ylabel('Frequency')\n",
        "plt.legend()\n",
        "plt.grid(alpha=0.4)\n",
        "plt.show()"
      ],
      "metadata": {
        "colab": {
          "base_uri": "https://localhost:8080/",
          "height": 765
        },
        "id": "Z6dGbB67CVi5",
        "outputId": "0f721d8a-5489-4a66-c36b-c682256ed920"
      },
      "execution_count": 24,
      "outputs": [
        {
          "output_type": "stream",
          "name": "stdout",
          "text": [
            "Setosa petal length: 0    1.4\n",
            "1    1.4\n",
            "2    1.3\n",
            "3    1.5\n",
            "4    1.4\n",
            "Name: petal_length, dtype: float64\n",
            "Versicolor petal length: 50    4.7\n",
            "51    4.5\n",
            "52    4.9\n",
            "53    4.0\n",
            "54    4.6\n",
            "Name: petal_length, dtype: float64\n",
            "\n",
            "T-statistic (Setosa petal length vs Versicolor petal length): -39.492719391538095\n",
            "P-value: 5.404910513441677e-62\n",
            "Reject the null hypothesis: There is a significant difference in average petal length  between Setosa and Versicolor.\n"
          ]
        },
        {
          "output_type": "display_data",
          "data": {
            "text/plain": [
              "<Figure size 800x500 with 1 Axes>"
            ],
            "image/png": "[encoded data removed]"
          },
          "metadata": {}
        }
      ]
    },
    {
      "cell_type": "markdown",
      "source": [
        "**2. Z-Test**"
      ],
      "metadata": {
        "id": "D6TEbEkzblzM"
      }
    },
    {
      "cell_type": "code",
      "source": [
        "from scipy import stats\n",
        "setosa_data = iris[iris['species'] == 'setosa']\n",
        "\n",
        "# Sample mean and standard deviation\n",
        "sample_mean = setosa_data['sepal_length'].mean()\n",
        "sample_std = setosa_data['sepal_length'].std()\n",
        "sample_size = len(setosa_data)\n",
        "\n",
        "print(\"Sample Mean: \",sample_mean)\n",
        "print(\"Sample Standard Deviation: \",sample_std)\n",
        "print(\"Sample Size: \",sample_size)\n",
        "\n",
        "# Hypothesized population mean\n",
        "specific_value = 5.0\n",
        "\n",
        "# Performing the Z-test\n",
        "z_statistic, p_value = stats.ttest_1samp(setosa_data['sepal_length'], specific_value)\n",
        "\n",
        "print(\"Z-statistic:\", z_statistic)\n",
        "print(\"P-value:\", p_value)\n",
        "\n",
        "alpha = 0.05\n",
        "\n",
        "if p_value == alpha: #if value is equal to 0.05 it is null hypothesis(H0), else it is alternative hypothesis(H1)\n",
        "    print(\"Fail to reject the null hypothesis: No significant difference in average sepal length between Setosa and the population mean.\")\n",
        "else:\n",
        "    print(\"Reject the null hypothesis: There is a significant difference in average sepal length between Setosa and the population mean.\")"
      ],
      "metadata": {
        "colab": {
          "base_uri": "https://localhost:8080/"
        },
        "id": "fetcdQZ5YqIT",
        "outputId": "380a235c-3f01-4f99-dadf-057fc944315b"
      },
      "execution_count": 23,
      "outputs": [
        {
          "output_type": "stream",
          "name": "stdout",
          "text": [
            "Sample Mean:  5.006\n",
            "Sample Standard Deviation:  0.3524896872134512\n",
            "Sample Size:  50\n",
            "Z-statistic: 0.12036212238318053\n",
            "P-value: 0.9046884777690936\n",
            "Reject the null hypothesis: There is a significant difference in average sepal length between Setosa and the population mean.\n"
          ]
        }
      ]
    },
    {
      "cell_type": "markdown",
      "source": [
        "**3. ANOVA**\n"
      ],
      "metadata": {
        "id": "cOOfgSKxbnlA"
      }
    },
    {
      "cell_type": "code",
      "source": [
        "setosa_petal_width = iris[iris['species'] == 'setosa']['petal_width']\n",
        "versicolor_petal_width = iris[iris['species'] == 'versicolor']['petal_width']\n",
        "virginica_petal_width = iris[iris['species'] == 'virginica']['petal_width']\n",
        "\n",
        "print(\"Setosa petal width:\", setosa_petal_width[:5])\n",
        "print(\"Versicolor petal width:\", versicolor_petal_width[:5])\n",
        "print(\"Virginica petal width:\", virginica_petal_width[:5])"
      ],
      "metadata": {
        "colab": {
          "base_uri": "https://localhost:8080/"
        },
        "id": "K2OIkRceBOA0",
        "outputId": "ab66384c-54fb-4ffb-ac12-a7fe72de3a7c"
      },
      "execution_count": 6,
      "outputs": [
        {
          "output_type": "stream",
          "name": "stdout",
          "text": [
            "Setosa petal width: 0    0.2\n",
            "1    0.2\n",
            "2    0.2\n",
            "3    0.2\n",
            "4    0.2\n",
            "Name: petal_width, dtype: float64\n",
            "Versicolor petal width: 50    1.4\n",
            "51    1.5\n",
            "52    1.5\n",
            "53    1.3\n",
            "54    1.5\n",
            "Name: petal_width, dtype: float64\n",
            "Virginica petal width: 100    2.5\n",
            "101    1.9\n",
            "102    2.1\n",
            "103    1.8\n",
            "104    2.2\n",
            "Name: petal_width, dtype: float64\n"
          ]
        }
      ]
    },
    {
      "cell_type": "code",
      "source": [
        "from scipy.stats import f_oneway\n",
        "\n",
        "# Performing One-way ANOVA\n",
        "\n",
        "f_statistic_abc, p_value_abc = f_oneway(setosa_petal_width,versicolor_petal_width,virginica_petal_width)\n",
        "\n",
        "print(\"\\nF-statistic (ANOVA across Setosa petal width, Versicolor petal width, and Virginica petal width):\", f_statistic_abc)\n",
        "print(\"P-value:\" ,p_value_abc)\n",
        "\n",
        "alpha=0.05\n",
        "\n",
        "if p_value_abc == alpha: #if value is equal to 0.05 it is null hypothesis(H0), else it is alternative hypothesis(H1)\n",
        "    print(\"Fail to reject the null hypothesis: No significant difference in average petal width among the species.\")\n",
        "else:\n",
        "    print(\"Reject the null hypothesis: There is a significant difference in average petal width among the species.\")\n"
      ],
      "metadata": {
        "colab": {
          "base_uri": "https://localhost:8080/"
        },
        "id": "fKSWW5sKBslz",
        "outputId": "c173a8e3-b2ff-47ca-b122-ed38b00d8d1e"
      },
      "execution_count": 17,
      "outputs": [
        {
          "output_type": "stream",
          "name": "stdout",
          "text": [
            "\n",
            "F-statistic (ANOVA across Setosa petal width, Versicolor petal width, and Virginica petal width): 960.007146801809\n",
            "P-value: 4.169445839443116e-85\n",
            "Reject the null hypothesis: There is a significant difference in average petal width among the species.\n"
          ]
        }
      ]
    },
    {
      "cell_type": "markdown",
      "source": [
        "**4.** **Correlation**/**Regression**"
      ],
      "metadata": {
        "id": "4KiiWSzLb7E6"
      }
    },
    {
      "cell_type": "code",
      "source": [
        "from sklearn.linear_model import LinearRegression\n",
        "\n",
        "# Calculate the correlation between sepal length and petal length\n",
        "correlation = iris['sepal_length'].corr(iris['petal_length'])\n",
        "print(f\"Correlation between sepal length and petal length: {correlation}\")\n",
        "\n",
        "# Prepare the data\n",
        "X = iris[['sepal_length']]  # Features (sepal length)\n",
        "y = iris['petal_length']    # Target variable (petal length)\n",
        "\n",
        "# Create and train the model\n",
        "model = LinearRegression()\n",
        "model.fit(X, y)\n",
        "\n",
        "#To Get the coefficients\n",
        "intercept = model.intercept_\n",
        "slope = model.coef_[0]\n",
        "\n",
        "print(f\"Linear Regression Equation: petal_length = {slope:.2f} * sepal_length + {intercept:.2f}\")\n",
        "\n",
        "#To Make predictions\n",
        "y_pred = model.predict(X)\n",
        "\n",
        "# plotting\n",
        "plt.figure(figsize=(8, 6))\n",
        "sns.regplot(x='sepal_length', y='petal_length', data=iris)\n",
        "plt.title('Relationship between Sepal Length and Petal Length')\n",
        "plt.xlabel('Sepal Length (cm)')\n",
        "plt.ylabel('Petal Length (cm)')\n",
        "plt.show()"
      ],
      "metadata": {
        "colab": {
          "base_uri": "https://localhost:8080/",
          "height": 599
        },
        "id": "Xg9PjbTNTR7V",
        "outputId": "9f0ea69d-3769-4916-8dfc-552e918feacc"
      },
      "execution_count": 8,
      "outputs": [
        {
          "output_type": "stream",
          "name": "stdout",
          "text": [
            "Correlation between sepal length and petal length: 0.8717537758865831\n",
            "Linear Regression Equation: petal_length = 1.86 * sepal_length + -7.10\n"
          ]
        },
        {
          "output_type": "display_data",
          "data": {
            "text/plain": [
              "<Figure size 800x600 with 1 Axes>"
            ],
            "image/png": "[encoded data removed]"
          },
          "metadata": {}
        }
      ]
    }
  ]
}